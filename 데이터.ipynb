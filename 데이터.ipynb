{
 "cells": [
  {
   "cell_type": "code",
   "execution_count": 20,
   "metadata": {},
   "outputs": [],
   "source": [
    "# numpy\n",
    "import numpy as np\n",
    "\n",
    "# pandas\n",
    "import pandas as pd\n",
    "\n",
    "import matplotlib.pyplot as plt"
   ]
  },
  {
   "cell_type": "code",
   "execution_count": 3,
   "metadata": {},
   "outputs": [
    {
     "name": "stdout",
     "output_type": "stream",
     "text": [
      "        Food product  Land Use Change   Feed    Farm  Processing  Transport  \\\n",
      "0             Apples           -0.029  0.000   0.225       0.004      0.096   \n",
      "1            Bananas           -0.025  0.000   0.266       0.059      0.292   \n",
      "2             Barley            0.009  0.000   0.176       0.128      0.035   \n",
      "3   Beef (beef herd)           16.278  1.878  39.388       1.269      0.346   \n",
      "4  Beef (dairy herd)            0.906  2.508  15.689       1.108      0.424   \n",
      "\n",
      "   Packaging  Retail  Total from Land to Retail  \\\n",
      "0      0.044   0.017                      0.357   \n",
      "1      0.065   0.021                      0.678   \n",
      "2      0.497   0.264                      1.109   \n",
      "3      0.247   0.164                     59.570   \n",
      "4      0.268   0.182                     21.085   \n",
      "\n",
      "   Total Global Average GHG Emissions per kg         Unit of GHG Emissions  \n",
      "0                                       0.43  kg CO2e per kg food produced  \n",
      "1                                       0.86  kg CO2e per kg food produced  \n",
      "2                                       1.18  kg CO2e per kg food produced  \n",
      "3                                      99.48  kg CO2e per kg food produced  \n",
      "4                                      33.30  kg CO2e per kg food produced  \n",
      "(43, 11)\n"
     ]
    }
   ],
   "source": [
    "data = pd.read_csv(\"Food_Product_Emissions.csv\")\n",
    "print(data.head())\n",
    "print(data.shape)"
   ]
  },
  {
   "cell_type": "code",
   "execution_count": 4,
   "metadata": {},
   "outputs": [
    {
     "name": "stdout",
     "output_type": "stream",
     "text": [
      "['Apples' 'Bananas' 'Barley' 'Beef (beef herd)' 'Beef (dairy herd)'\n",
      " 'Beet Sugar' 'Berries & Grapes' 'Brassicas' 'Cane Sugar' 'Cassava'\n",
      " 'Cheese' 'Citrus Fruit' 'Coffee' 'Dark Chocolate' 'Eggs' 'Fish (farmed)'\n",
      " 'Groundnuts' 'Lamb & Mutton' 'Maize' 'Milk' 'Nuts' 'Oatmeal' 'Olive Oil'\n",
      " 'Onions & Leeks' 'Other Fruit' 'Other Pulses' 'Other Vegetables'\n",
      " 'Palm Oil' 'Peas' 'Pig Meat' 'Potatoes' 'Poultry Meat' 'Rapeseed Oil'\n",
      " 'Rice' 'Root Vegetables' 'Shrimps (farmed)' 'Soybean Oil' 'Soymilk'\n",
      " 'Sunflower Oil' 'Tofu' 'Tomatoes' 'Wheat & Rye' 'Wine']\n"
     ]
    }
   ],
   "source": [
    "print(data['Food product'].unique())"
   ]
  },
  {
   "cell_type": "code",
   "execution_count": 13,
   "metadata": {},
   "outputs": [],
   "source": [
    "GHG = data[['Food product', 'Total Global Average GHG Emissions per kg']]\n",
    "GHG.columns = ['Food', 'GHG']"
   ]
  },
  {
   "cell_type": "code",
   "execution_count": 15,
   "metadata": {},
   "outputs": [
    {
     "name": "stdout",
     "output_type": "stream",
     "text": [
      "                 Food    GHG\n",
      "0              Apples   0.43\n",
      "1             Bananas   0.86\n",
      "2              Barley   1.18\n",
      "3    Beef (beef herd)  99.48\n",
      "4   Beef (dairy herd)  33.30\n",
      "5          Beet Sugar   1.81\n",
      "6    Berries & Grapes   1.53\n",
      "7           Brassicas   0.51\n",
      "8          Cane Sugar   3.20\n",
      "9             Cassava   1.32\n",
      "10             Cheese  23.88\n",
      "11       Citrus Fruit   0.39\n",
      "12             Coffee  28.53\n",
      "13     Dark Chocolate  46.65\n",
      "14               Eggs   4.67\n",
      "15      Fish (farmed)  13.63\n",
      "16         Groundnuts   3.23\n",
      "17      Lamb & Mutton  39.72\n",
      "18              Maize   1.70\n",
      "19               Milk   3.15\n",
      "20               Nuts   0.43\n",
      "21            Oatmeal   2.48\n",
      "22          Olive Oil   5.42\n",
      "23     Onions & Leeks   0.50\n",
      "24        Other Fruit   1.05\n",
      "25       Other Pulses   1.79\n",
      "26   Other Vegetables   0.53\n",
      "27           Palm Oil   7.32\n",
      "28               Peas   0.98\n",
      "29           Pig Meat  12.31\n",
      "30           Potatoes   0.46\n",
      "31       Poultry Meat   9.87\n",
      "32       Rapeseed Oil   3.77\n",
      "33               Rice   4.45\n",
      "34    Root Vegetables   0.43\n",
      "35   Shrimps (farmed)  26.87\n",
      "36        Soybean Oil   6.32\n",
      "37            Soymilk   0.98\n",
      "38      Sunflower Oil   3.60\n",
      "39               Tofu   3.16\n",
      "40           Tomatoes   2.09\n",
      "41        Wheat & Rye   1.57\n",
      "42               Wine   1.79\n"
     ]
    }
   ],
   "source": [
    "print(GHG)"
   ]
  },
  {
   "cell_type": "code",
   "execution_count": 18,
   "metadata": {},
   "outputs": [
    {
     "name": "stderr",
     "output_type": "stream",
     "text": [
      "<ipython-input-18-066a84b5742d>:1: SettingWithCopyWarning: \n",
      "A value is trying to be set on a copy of a slice from a DataFrame.\n",
      "Try using .loc[row_indexer,col_indexer] = value instead\n",
      "\n",
      "See the caveats in the documentation: https://pandas.pydata.org/pandas-docs/stable/user_guide/indexing.html#returning-a-view-versus-a-copy\n",
      "  GHG['km'] = round(GHG['GHG'] / (97/1000), 2)\n"
     ]
    }
   ],
   "source": [
    "GHG['km'] = round(GHG['GHG'] / (97/1000), 2)"
   ]
  },
  {
   "cell_type": "code",
   "execution_count": 19,
   "metadata": {},
   "outputs": [
    {
     "name": "stdout",
     "output_type": "stream",
     "text": [
      "                 Food    GHG       km\n",
      "0              Apples   0.43     4.43\n",
      "1             Bananas   0.86     8.87\n",
      "2              Barley   1.18    12.16\n",
      "3    Beef (beef herd)  99.48  1025.57\n",
      "4   Beef (dairy herd)  33.30   343.30\n",
      "5          Beet Sugar   1.81    18.66\n",
      "6    Berries & Grapes   1.53    15.77\n",
      "7           Brassicas   0.51     5.26\n",
      "8          Cane Sugar   3.20    32.99\n",
      "9             Cassava   1.32    13.61\n",
      "10             Cheese  23.88   246.19\n",
      "11       Citrus Fruit   0.39     4.02\n",
      "12             Coffee  28.53   294.12\n",
      "13     Dark Chocolate  46.65   480.93\n",
      "14               Eggs   4.67    48.14\n",
      "15      Fish (farmed)  13.63   140.52\n",
      "16         Groundnuts   3.23    33.30\n",
      "17      Lamb & Mutton  39.72   409.48\n",
      "18              Maize   1.70    17.53\n",
      "19               Milk   3.15    32.47\n",
      "20               Nuts   0.43     4.43\n",
      "21            Oatmeal   2.48    25.57\n",
      "22          Olive Oil   5.42    55.88\n",
      "23     Onions & Leeks   0.50     5.15\n",
      "24        Other Fruit   1.05    10.82\n",
      "25       Other Pulses   1.79    18.45\n",
      "26   Other Vegetables   0.53     5.46\n",
      "27           Palm Oil   7.32    75.46\n",
      "28               Peas   0.98    10.10\n",
      "29           Pig Meat  12.31   126.91\n",
      "30           Potatoes   0.46     4.74\n",
      "31       Poultry Meat   9.87   101.75\n",
      "32       Rapeseed Oil   3.77    38.87\n",
      "33               Rice   4.45    45.88\n",
      "34    Root Vegetables   0.43     4.43\n",
      "35   Shrimps (farmed)  26.87   277.01\n",
      "36        Soybean Oil   6.32    65.15\n",
      "37            Soymilk   0.98    10.10\n",
      "38      Sunflower Oil   3.60    37.11\n",
      "39               Tofu   3.16    32.58\n",
      "40           Tomatoes   2.09    21.55\n",
      "41        Wheat & Rye   1.57    16.19\n",
      "42               Wine   1.79    18.45\n"
     ]
    }
   ],
   "source": [
    "print(GHG)"
   ]
  },
  {
   "cell_type": "code",
   "execution_count": 49,
   "metadata": {},
   "outputs": [
    {
     "data": {
      "image/png": "[encoded data removed]",
      "text/plain": [
       "<Figure size 1440x1080 with 1 Axes>"
      ]
     },
     "metadata": {
      "needs_background": "light"
     },
     "output_type": "display_data"
    }
   ],
   "source": [
    "from turtle import width\n",
    "\n",
    "\n",
    "\n",
    "\n",
    "plt.figure(figsize=(20, 15))\n",
    "\n",
    "plt.ylabel('km')\n",
    "plt.barh(GHG['Food'], GHG['km'], height=0.8)\n",
    "plt.show()"
   ]
  },
  {
   "cell_type": "code",
   "execution_count": 28,
   "metadata": {},
   "outputs": [],
   "source": [
    "meat = GHG[GHG['Food'].isin(['Beef (beef herd)','Lamb & Mutton','Pig Meat','Poultry Meat'])]"
   ]
  },
  {
   "cell_type": "code",
   "execution_count": 29,
   "metadata": {},
   "outputs": [
    {
     "name": "stdout",
     "output_type": "stream",
     "text": [
      "                Food    GHG       km\n",
      "3   Beef (beef herd)  99.48  1025.57\n",
      "17     Lamb & Mutton  39.72   409.48\n",
      "29          Pig Meat  12.31   126.91\n",
      "31      Poultry Meat   9.87   101.75\n"
     ]
    }
   ],
   "source": [
    "print(meat)"
   ]
  },
  {
   "cell_type": "code",
   "execution_count": 31,
   "metadata": {},
   "outputs": [
    {
     "data": {
      "text/plain": [
       "<BarContainer object of 4 artists>"
      ]
     },
     "execution_count": 31,
     "metadata": {},
     "output_type": "execute_result"
    },
    {
     "data": {
      "image/png": "[encoded data removed]",
      "text/plain": [
       "<Figure size 432x288 with 1 Axes>"
      ]
     },
     "metadata": {
      "needs_background": "light"
     },
     "output_type": "display_data"
    }
   ],
   "source": [
    "plt.bar(meat['Food'], meat['km'])"
   ]
  },
  {
   "cell_type": "code",
   "execution_count": 33,
   "metadata": {},
   "outputs": [],
   "source": []
  },
  {
   "cell_type": "code",
   "execution_count": null,
   "metadata": {},
   "outputs": [],
   "source": []
  }
 ],
 "metadata": {
  "kernelspec": {
   "display_name": "Python 3.9.13 64-bit",
   "language": "python",
   "name": "python3"
  },
  "language_info": {
   "codemirror_mode": {
    "name": "ipython",
    "version": 3
   },
   "file_extension": ".py",
   "mimetype": "text/x-python",
   "name": "python",
   "nbconvert_exporter": "python",
   "pygments_lexer": "ipython3",
   "version": "3.9.13"
  },
  "orig_nbformat": 4,
  "vscode": {
   "interpreter": {
    "hash": "ab8d6829731b96c6e4c2208664d4afe6b58ff0a3462361839ed43e03f05ae3d8"
   }
  }
 },
 "nbformat": 4,
 "nbformat_minor": 2
}
